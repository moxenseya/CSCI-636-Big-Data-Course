{
 "cells": [
  {
   "cell_type": "markdown",
   "metadata": {},
   "source": [
    "## List of problems faced, and solutions to fix them – Big Data Analytics CSCI 436/636"
   ]
  },
  {
   "cell_type": "markdown",
   "metadata": {},
   "source": [
    "### VT-X Disabled (Windows Only)\n",
    "Enable virtualization in BIOS. This can be done by entering the BIOS settings of your system and enabling it from there. The process of entering BIOS differs from manufacturer to manufacturer.\n",
    "\n",
    "For a generic solution, refer here: https://support.bluestacks.com/hc/en-us/articles/115003910391-How-can-I-enable-virtualization-VT-on-my-PC-"
   ]
  },
  {
   "cell_type": "markdown",
   "metadata": {},
   "source": [
    "### Machine Not Loading (System Hang or Heavy Lag)\n",
    "Minimum requirement is 8GB RAM. Check if system has necessary hardware and if not, needs upgrade."
   ]
  },
  {
   "cell_type": "markdown",
   "metadata": {},
   "source": [
    "### Firefox Icon Missing \n",
    "\n",
    "This problem seems to be from the display manager on virtual machine. Although the icons are missing, the programs are still available but need to be launched through the terminal instead.\n",
    "\n",
    "#### Launch terminal, and enter command \"firefox\" to launch firefox\n",
    "\n",
    "Source: Kathryn"
   ]
  },
  {
   "cell_type": "markdown",
   "metadata": {},
   "source": [
    "### Kernel Module not installed (Mac OS)\n",
    "MacOS Security and Privacy setting blocks from installing the program. Sometimes doesn’t give a notification to the users.\n",
    "\n",
    "#### Manually reinstalling virtualbox and cloudera is the only solution for now.\n",
    "\n",
    "Some users have reported that changing \"Allow apps downloaded from:\" option to \"App Store\" in the \"Security and Privacy\" settings has worked for them.\n",
    "\n",
    "Refer here: https://medium.com/@Aenon/mac-virtualbox-kernel-driver-error-df39e7e10cd8"
   ]
  },
  {
   "cell_type": "markdown",
   "metadata": {},
   "source": [
    "### HDFS Name node in safe mode\n",
    "Run this command, should solve the problem.\n",
    "\n",
    "#### sudo -u hdfs hadoop dfsadmin -safemode leave\n",
    "\n",
    "Refer here:\n",
    "https://community.pivotal.io/s/article/HDFS-goes-into-readonly-mode-and-errors-out-with-Name-node-is-in-safe-mode"
   ]
  },
  {
   "cell_type": "markdown",
   "metadata": {},
   "source": [
    "### Not a valid JAR\n",
    "Path for the Hadoop examples JAR is different on the system, use these commands to find it.\n",
    "\n",
    "#### sudo updatedb\n",
    "#### locate hadoop-examples.jar\n",
    "\n",
    "This will give the paths, use any one of them. (Preferably the first path)"
   ]
  },
  {
   "cell_type": "markdown",
   "metadata": {},
   "source": [
    "# Error Code 127\n",
    "\n",
    "\n",
    "When the python file is created in Windows environment the new line character is CRLF. In Linux, the new line character is LF.\n",
    "\n",
    "\n",
    "Solution is to change CRLF to LF. One easy way to do it is to use a python formatter tool, which automatically reformats your code with the correct spacing and indentations. One such tool can be found on this link: \n",
    "\n",
    "https://www.tutorialspoint.com/online_python_formatter.htm"
   ]
  },
  {
   "cell_type": "markdown",
   "metadata": {},
   "source": [
    "# Only one line output in cat for testfiles\n",
    "\n",
    "This problem is similar to the error code 127, where the endline character is different for linux and host system. Simple solution is to manually replace each endline character. Go to end of each line and press delete, and then enter. This will remove the old newline character and then create a new one. Save this file and you should get all lines as output.\n",
    "\n",
    "Source: Daniel Kanba"
   ]
  },
  {
   "cell_type": "markdown",
   "metadata": {},
   "source": [
    "# Setup.sh Access Denied\n",
    "\n",
    "You need to provide execute permission to your setup.sh script. After using chmod +x setup.sh, you can run it."
   ]
  },
  {
   "cell_type": "markdown",
   "metadata": {},
   "source": [
    "## Certificate common name doesn't match requested host name"
   ]
  },
  {
   "cell_type": "markdown",
   "metadata": {},
   "source": [
    "setup.sh must have the line \"wget http://repo.continuum.io/archive/Anaconda3-4.0.0-Linux-x86_64.sh --no-check-certificate\" in order to run without error.\n",
    "\n",
    "modified setup.sh file should look like this: "
   ]
  },
  {
   "cell_type": "code",
   "execution_count": null,
   "metadata": {},
   "outputs": [],
   "source": [
    "#!/bin/bash\n",
    "\n",
    "# upgrade spark python to work with python 3\n",
    "sudo yum upgrade -y spark-python hive\n",
    "\n",
    "# remove old derby jar so only one version is on spark's classpath\n",
    "sudo rm /usr/lib/flume-ng/lib/derby-10.8.2.2.jar\n",
    "\n",
    "# decompress datasets\n",
    "gzip -d *.csv.gz\n",
    "\n",
    "# download and install anaconda for pandas, jupyter\n",
    "rm -f Anaconda3-4.0.0-Linux-x86_64.sh\n",
    "wget http://repo.continuum.io/archive/Anaconda3-4.0.0-Linux-x86_64.sh --no-check-certificate\n",
    "bash Anaconda3-4.0.0-Linux-x86_64.sh\n",
    "\n",
    "# add spark-csv jars to classpath\n",
    "echo export SPARK_CLASSPATH=\"$(pwd)/lib/spark-csv_2.10-1.5.0.jar:$(pwd)/lib/commons-csv-1.1.jar\" >> ~/.bashrc\n",
    "\n",
    "# set environment variables to load spark libs in jupyter\n",
    "echo \"export PYSPARK_DRIVER_PYTHON_OPTS=\\\"notebook\\\"\" >> ~/.bashrc\n",
    "echo \"export PYSPARK_DRIVER_PYTHON=jupyter\"  >> ~/.bashrc\n",
    "\n",
    "echo \"Run 'source ~/.bashrc' to complete the setup."
   ]
  },
  {
   "cell_type": "markdown",
   "metadata": {},
   "source": [
    "Source: Richard Rostum"
   ]
  }
 ],
 "metadata": {
  "kernelspec": {
   "display_name": "Python 3",
   "language": "python",
   "name": "python3"
  },
  "language_info": {
   "codemirror_mode": {
    "name": "ipython",
    "version": 3
   },
   "file_extension": ".py",
   "mimetype": "text/x-python",
   "name": "python",
   "nbconvert_exporter": "python",
   "pygments_lexer": "ipython3",
   "version": "3.6.6"
  }
 },
 "nbformat": 4,
 "nbformat_minor": 2
}
