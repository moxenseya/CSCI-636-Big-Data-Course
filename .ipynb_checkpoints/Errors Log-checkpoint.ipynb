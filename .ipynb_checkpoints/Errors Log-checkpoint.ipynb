{
 "cells": [
  {
   "cell_type": "markdown",
   "metadata": {},
   "source": [
    "## List of problems faced, and solutions to fix them – Big Data Analytics CSCI 436/636"
   ]
  },
  {
   "cell_type": "markdown",
   "metadata": {},
   "source": [
    "### VT-X Disabled (Windows Only)\n",
    "Enable virtualization in BIOS. This can be done by entering the BIOS settings of your system and enabling it from there. The process of entering BIOS differs from manufacturer to manufacturer.\n",
    "\n",
    "For a generic solution, refer here: https://support.bluestacks.com/hc/en-us/articles/115003910391-How-can-I-enable-virtualization-VT-on-my-PC-"
   ]
  },
  {
   "cell_type": "markdown",
   "metadata": {},
   "source": [
    "### Machine Not Loading (System Hang or Heavy Lag)\n",
    "Minimum requirement is 8GB RAM. Check if system has necessary hardware and if not, needs upgrade."
   ]
  },
  {
   "cell_type": "markdown",
   "metadata": {},
   "source": [
    "### Firefox Icon Missing \n",
    "\n",
    "This problem seems to be from the display manager on virtual machine. Although the icons are missing, the programs are still available but need to be launched through the terminal instead.\n",
    "\n",
    "#### Launch terminal, and enter command \"firefox\" to launch firefox"
   ]
  },
  {
   "cell_type": "markdown",
   "metadata": {},
   "source": [
    "### Kernel Module not installed (Mac OS)\n",
    "MacOS Security and Privacy setting blocks from installing the program. Sometimes doesn’t give a notification to the users.\n",
    "\n",
    "#### Manually reinstalling virtualbox and cloudera is the only solution for now.\n",
    "\n",
    "Some users have reported that changing \"Allow apps downloaded from:\" option to \"App Store\" in the \"Security and Privacy\" settings has worked for them.\n",
    "\n",
    "Refer here: https://medium.com/@Aenon/mac-virtualbox-kernel-driver-error-df39e7e10cd8"
   ]
  },
  {
   "cell_type": "markdown",
   "metadata": {},
   "source": [
    "### HDFS Name node in safe mode\n",
    "Run this command, should solve the problem.\n",
    "\n",
    "#### sudo -u hdfs hadoop dfsadmin -safemode leave\n",
    "\n",
    "Refer here:\n",
    "https://community.pivotal.io/s/article/HDFS-goes-into-readonly-mode-and-errors-out-with-Name-node-is-in-safe-mode"
   ]
  },
  {
   "cell_type": "markdown",
   "metadata": {},
   "source": [
    "### Not a valid JAR\n",
    "Path for the Hadoop examples JAR is different on the system, use these commands to find it.\n",
    "\n",
    "#### sudo updatedb\n",
    "#### locate hadoop-examples.jar\n",
    "\n",
    "This will give the paths, use any one of them. (Preferably the first path)"
   ]
  }
 ],
 "metadata": {
  "kernelspec": {
   "display_name": "Python 3",
   "language": "python",
   "name": "python3"
  },
  "language_info": {
   "codemirror_mode": {
    "name": "ipython",
    "version": 3
   },
   "file_extension": ".py",
   "mimetype": "text/x-python",
   "name": "python",
   "nbconvert_exporter": "python",
   "pygments_lexer": "ipython3",
   "version": "3.6.6"
  }
 },
 "nbformat": 4,
 "nbformat_minor": 2
}
